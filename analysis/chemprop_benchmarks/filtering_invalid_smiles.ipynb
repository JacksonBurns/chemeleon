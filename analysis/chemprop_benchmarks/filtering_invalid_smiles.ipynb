{
 "cells": [
  {
   "cell_type": "code",
   "execution_count": 17,
   "id": "78ba5f5c",
   "metadata": {},
   "outputs": [
    {
     "name": "stderr",
     "output_type": "stream",
     "text": [
      "[14:39:25] Explicit valence for atom # 4 C, 5, is greater than permitted\n"
     ]
    },
    {
     "name": "stdout",
     "output_type": "stream",
     "text": [
      "Invalid SMILES (MolFromSmiles returned None): CN1C=C[CH2+]=CC1\n",
      " --> CN1C=C[CH2+]=CC1 is invalid\n"
     ]
    },
    {
     "name": "stderr",
     "output_type": "stream",
     "text": [
      "[14:39:28] WARNING: not removing hydrogen atom without neighbors\n"
     ]
    }
   ],
   "source": [
    "from rdkit import Chem\n",
    "\n",
    "def check_smiles_validity(smiles):\n",
    "    try:\n",
    "        mol = Chem.MolFromSmiles(smiles, sanitize=True)\n",
    "        if mol is None:\n",
    "            print(f\"Invalid SMILES (MolFromSmiles returned None): {smiles}\")\n",
    "            return False\n",
    "        return True\n",
    "    except Exception as e:\n",
    "        print(f\"Invalid SMILES (exception raised): {smiles} | Error: {e}\")\n",
    "        return False\n",
    "\n",
    "with open('/home/akshatz/bond_order_free/multi_molecule/dataset/mult_mol_data.csv') as f:\n",
    "    next(f)  # skip header\n",
    "    for line in f:\n",
    "        smi = line.strip().split(',')[0] \n",
    "        if not check_smiles_validity(smi):\n",
    "            print(f\" --> {smi} is invalid\")\n"
   ]
  },
  {
   "cell_type": "code",
   "execution_count": 18,
   "id": "e1958a2d",
   "metadata": {},
   "outputs": [],
   "source": [
    "import csv\n",
    "import json\n",
    "from rdkit import Chem\n",
    "from pathlib import Path\n",
    "\n",
    "def check_smiles_validity(smiles):\n",
    "    try:\n",
    "        mol = Chem.MolFromSmiles(smiles, sanitize=True)\n",
    "        return mol is not None\n",
    "    except Exception:\n",
    "        return False\n",
    "\n",
    "def process_dataset_and_splits(data_path, splits_path, output_data_path=None, invalid_smiles_path=None, updated_splits_path=None):\n",
    "    # Set default output paths\n",
    "    data_path = Path(data_path)\n",
    "    splits_path = Path(splits_path)\n",
    "    \n",
    "    if output_data_path is None:\n",
    "        output_data_path = data_path.with_name(data_path.stem + '_filtered.csv')\n",
    "    if invalid_smiles_path is None:\n",
    "        invalid_smiles_path = data_path.with_name(data_path.stem + '_invalid.csv')\n",
    "    if updated_splits_path is None:\n",
    "        updated_splits_path = splits_path.with_name(splits_path.stem + '_filtered.json')\n",
    "\n",
    "    # Step 1: Read and filter valid rows\n",
    "    valid_rows = []\n",
    "    invalid_rows = []\n",
    "    with open(data_path, 'r') as f:\n",
    "        reader = csv.reader(f)\n",
    "        header = next(reader)\n",
    "        for idx, row in enumerate(reader):\n",
    "            smi = row[0]\n",
    "            if check_smiles_validity(smi):\n",
    "                valid_rows.append((idx, row))\n",
    "            else:\n",
    "                invalid_rows.append((idx, row))\n",
    "\n",
    "    # Step 2: Write filtered valid data\n",
    "    with open(output_data_path, 'w', newline='') as f:\n",
    "        writer = csv.writer(f)\n",
    "        writer.writerow(header)\n",
    "        for _, row in valid_rows:\n",
    "            writer.writerow(row)\n",
    "\n",
    "    # Step 3: Write invalid rows\n",
    "    with open(invalid_smiles_path, 'w', newline='') as f:\n",
    "        writer = csv.writer(f)\n",
    "        writer.writerow(header)\n",
    "        for _, row in invalid_rows:\n",
    "            writer.writerow(row)\n",
    "\n",
    "    # Step 4: Adjust splits.json\n",
    "    old_to_new_index = {}\n",
    "    for new_idx, (old_idx, _) in enumerate(valid_rows):\n",
    "        old_to_new_index[old_idx] = new_idx\n",
    "\n",
    "    with open(splits_path, 'r') as f:\n",
    "        old_splits = json.load(f)\n",
    "\n",
    "    new_splits = []\n",
    "    for split_dict in old_splits:\n",
    "        new_split_dict = {}\n",
    "        for key in ['train', 'val', 'test']:\n",
    "            start, end = map(int, split_dict[key].split('-'))\n",
    "            # Keep only valid indices within this range\n",
    "            new_indices = [\n",
    "                old_to_new_index[i]\n",
    "                for i in range(start, end + 1)\n",
    "                if i in old_to_new_index\n",
    "            ]\n",
    "            if new_indices:\n",
    "                new_split_dict[key] = f\"{min(new_indices)}-{max(new_indices)}\"\n",
    "            else:\n",
    "                new_split_dict[key] = \"0--1\"  # Placeholder if empty\n",
    "        new_splits.append(new_split_dict)\n",
    "\n",
    "    with open(updated_splits_path, 'w') as f:\n",
    "        json.dump(new_splits, f, indent=4)\n",
    "\n",
    "    print(f\"Filtered data saved to: {output_data_path}\")\n",
    "    print(f\"Invalid SMILES saved to: {invalid_smiles_path}\")\n",
    "    print(f\"Updated splits saved to: {updated_splits_path}\")\n"
   ]
  },
  {
   "cell_type": "code",
   "execution_count": 19,
   "id": "df1cfc4d",
   "metadata": {},
   "outputs": [
    {
     "name": "stderr",
     "output_type": "stream",
     "text": [
      "[14:39:40] Explicit valence for atom # 4 C, 5, is greater than permitted\n"
     ]
    },
    {
     "name": "stdout",
     "output_type": "stream",
     "text": [
      "Filtered data saved to: /home/akshatz/bond_order_free/multi_molecule/dataset/mult_mol_data_filtered.csv\n",
      "Invalid SMILES saved to: /home/akshatz/bond_order_free/multi_molecule/dataset/mult_mol_data_invalid.csv\n",
      "Updated splits saved to: /home/akshatz/bond_order_free/multi_molecule/dataset/splits_filtered.json\n"
     ]
    },
    {
     "name": "stderr",
     "output_type": "stream",
     "text": [
      "[14:39:42] WARNING: not removing hydrogen atom without neighbors\n"
     ]
    }
   ],
   "source": [
    "# mult_mol uv/vis\n",
    "process_dataset_and_splits(\n",
    "    data_path=\"/home/akshatz/bond_order_free/multi_molecule/dataset/mult_mol_data.csv\",\n",
    "    splits_path=\"/home/akshatz/bond_order_free/multi_molecule/dataset/splits.json\"\n",
    ")"
   ]
  },
  {
   "cell_type": "code",
   "execution_count": 20,
   "id": "1ddf60a1",
   "metadata": {},
   "outputs": [
    {
     "name": "stderr",
     "output_type": "stream",
     "text": [
      "[14:40:08] Explicit valence for atom # 5 B, 5, is greater than permitted\n",
      "[14:40:09] Explicit valence for atom # 3 Al, 6, is greater than permitted\n",
      "[14:40:11] WARNING: not removing hydrogen atom without neighbors\n",
      "[14:40:11] WARNING: not removing hydrogen atom without neighbors\n",
      "[14:40:12] Explicit valence for atom # 6 Ge, 5, is greater than permitted\n",
      "[14:40:12] Explicit valence for atom # 13 Al, 7, is greater than permitted\n",
      "[14:40:12] Explicit valence for atom # 12 Al, 7, is greater than permitted\n",
      "[14:40:12] Explicit valence for atom # 4 Al, 9, is greater than permitted\n"
     ]
    },
    {
     "name": "stdout",
     "output_type": "stream",
     "text": [
      "Filtered data saved to: /home/akshatz/bond_order_free/hiv/dataset/hiv_data_filtered.csv\n",
      "Invalid SMILES saved to: /home/akshatz/bond_order_free/hiv/dataset/hiv_data_invalid.csv\n",
      "Updated splits saved to: /home/akshatz/bond_order_free/hiv/dataset/splits_filtered.json\n"
     ]
    },
    {
     "name": "stderr",
     "output_type": "stream",
     "text": [
      "[14:40:13] Explicit valence for atom # 16 Al, 9, is greater than permitted\n"
     ]
    }
   ],
   "source": [
    "#hiv\n",
    "process_dataset_and_splits(\n",
    "    data_path=\"/home/akshatz/bond_order_free/hiv/dataset/hiv_data.csv\",\n",
    "    splits_path=\"/home/akshatz/bond_order_free/hiv/dataset/splits.json\"\n",
    ")"
   ]
  },
  {
   "cell_type": "code",
   "execution_count": 21,
   "id": "67bf0449",
   "metadata": {},
   "outputs": [
    {
     "name": "stdout",
     "output_type": "stream",
     "text": [
      "Filtered data saved to: /home/akshatz/bond_order_free/qm9/dataset/qm9_data_filtered.csv\n",
      "Invalid SMILES saved to: /home/akshatz/bond_order_free/qm9/dataset/qm9_data_invalid.csv\n",
      "Updated splits saved to: /home/akshatz/bond_order_free/qm9/dataset/splits_filtered.json\n"
     ]
    }
   ],
   "source": [
    "#qm9\n",
    "process_dataset_and_splits(\n",
    "    data_path=\"/home/akshatz/bond_order_free/qm9/dataset/qm9_data.csv\",\n",
    "    splits_path=\"/home/akshatz/bond_order_free/qm9/dataset/splits.json\"\n",
    ")"
   ]
  },
  {
   "cell_type": "code",
   "execution_count": 22,
   "id": "f5be3bfe",
   "metadata": {},
   "outputs": [
    {
     "name": "stderr",
     "output_type": "stream",
     "text": [
      "[14:40:40] Explicit valence for atom # 5 Al, 6, is greater than permitted\n",
      "[14:40:56] Explicit valence for atom # 4 Al, 5, is greater than permitted\n",
      "[14:41:05] WARNING: not removing hydrogen atom without neighbors\n",
      "[14:41:08] WARNING: not removing hydrogen atom without neighbors\n",
      "[14:41:11] WARNING: not removing hydrogen atom without neighbors\n",
      "[14:41:12] WARNING: not removing hydrogen atom without neighbors\n"
     ]
    },
    {
     "name": "stdout",
     "output_type": "stream",
     "text": [
      "Filtered data saved to: /home/akshatz/bond_order_free/pcba_random/dataset/pcba_random_data_filtered.csv\n",
      "Invalid SMILES saved to: /home/akshatz/bond_order_free/pcba_random/dataset/pcba_random_data_invalid.csv\n",
      "Updated splits saved to: /home/akshatz/bond_order_free/pcba_random/dataset/splits_filtered.json\n"
     ]
    }
   ],
   "source": [
    "#pcba random\n",
    "process_dataset_and_splits(\n",
    "    data_path=\"/home/akshatz/bond_order_free/pcba_random/dataset/pcba_random_data.csv\",\n",
    "    splits_path=\"/home/akshatz/bond_order_free/pcba_random/dataset/splits.json\"\n",
    ")"
   ]
  },
  {
   "cell_type": "code",
   "execution_count": 23,
   "id": "7bb0f582",
   "metadata": {},
   "outputs": [
    {
     "name": "stderr",
     "output_type": "stream",
     "text": [
      "[14:41:42] Explicit valence for atom # 4 Al, 5, is greater than permitted\n",
      "[14:41:48] WARNING: not removing hydrogen atom without neighbors\n",
      "[14:41:51] WARNING: not removing hydrogen atom without neighbors\n",
      "[14:42:05] WARNING: not removing hydrogen atom without neighbors\n",
      "[14:42:07] Explicit valence for atom # 5 Al, 6, is greater than permitted\n",
      "[14:42:08] WARNING: not removing hydrogen atom without neighbors\n"
     ]
    },
    {
     "name": "stdout",
     "output_type": "stream",
     "text": [
      "Filtered data saved to: /home/akshatz/bond_order_free/pcba_random_nan/dataset/pcba_random_nan_data_filtered.csv\n",
      "Invalid SMILES saved to: /home/akshatz/bond_order_free/pcba_random_nan/dataset/pcba_random_nan_data_invalid.csv\n",
      "Updated splits saved to: /home/akshatz/bond_order_free/pcba_random_nan/dataset/splits_filtered.json\n"
     ]
    }
   ],
   "source": [
    "#pcba random nan\n",
    "process_dataset_and_splits(\n",
    "    data_path=\"/home/akshatz/bond_order_free/pcba_random_nan/dataset/pcba_random_nan_data.csv\",\n",
    "    splits_path=\"/home/akshatz/bond_order_free/pcba_random_nan/dataset/splits.json\"\n",
    ")"
   ]
  },
  {
   "cell_type": "code",
   "execution_count": 24,
   "id": "93117a4a",
   "metadata": {},
   "outputs": [
    {
     "name": "stderr",
     "output_type": "stream",
     "text": [
      "[14:42:50] Explicit valence for atom # 4 Al, 5, is greater than permitted\n",
      "[14:42:58] WARNING: not removing hydrogen atom without neighbors\n",
      "[14:43:02] WARNING: not removing hydrogen atom without neighbors\n",
      "[14:43:20] WARNING: not removing hydrogen atom without neighbors\n",
      "[14:43:22] Explicit valence for atom # 5 Al, 6, is greater than permitted\n",
      "[14:43:23] WARNING: not removing hydrogen atom without neighbors\n"
     ]
    },
    {
     "name": "stdout",
     "output_type": "stream",
     "text": [
      "Filtered data saved to: /home/akshatz/bond_order_free/pcba_scaffold/dataset/pcba_scaffold_data_filtered.csv\n",
      "Invalid SMILES saved to: /home/akshatz/bond_order_free/pcba_scaffold/dataset/pcba_scaffold_data_invalid.csv\n",
      "Updated splits saved to: /home/akshatz/bond_order_free/pcba_scaffold/dataset/splits_filtered.json\n"
     ]
    }
   ],
   "source": [
    "#pcba scaffold\n",
    "process_dataset_and_splits(\n",
    "    data_path=\"/home/akshatz/bond_order_free/pcba_scaffold/dataset/pcba_scaffold_data.csv\",\n",
    "    splits_path=\"/home/akshatz/bond_order_free/pcba_scaffold/dataset/splits.json\"\n",
    ")"
   ]
  },
  {
   "cell_type": "code",
   "execution_count": 26,
   "id": "d0884f29",
   "metadata": {},
   "outputs": [
    {
     "name": "stderr",
     "output_type": "stream",
     "text": [
      "[14:44:08] Explicit valence for atom # 1 Si, 6, is greater than permitted\n",
      "[14:44:13] Explicit valence for atom # 4 Si, 5, is greater than permitted\n",
      "[14:44:15] Explicit valence for atom # 1 Si, 5, is greater than permitted\n",
      "[14:44:25] Explicit valence for atom # 1 Si, 5, is greater than permitted\n",
      "[14:44:26] Explicit valence for atom # 6 Si, 5, is greater than permitted\n",
      "[14:44:29] Explicit valence for atom # 4 P, 6, is greater than permitted\n",
      "[14:44:38] Explicit valence for atom # 2 Si, 5, is greater than permitted\n",
      "[14:44:53] Explicit valence for atom # 1 Si, 5, is greater than permitted\n",
      "[14:45:02] Conflicting single bond directions around double bond at index 13.\n",
      "[14:45:02]   BondStereo set to STEREONONE and single bond directions set to NONE.\n",
      "[14:45:10] Explicit valence for atom # 1 Si, 5, is greater than permitted\n",
      "[14:45:22] Explicit valence for atom # 2 Si, 5, is greater than permitted\n",
      "[14:45:23] Explicit valence for atom # 1 Si, 5, is greater than permitted\n",
      "[14:45:39] Explicit valence for atom # 8 Si, 5, is greater than permitted\n",
      "[14:45:55] Explicit valence for atom # 1 Si, 5, is greater than permitted\n",
      "[14:45:58] Explicit valence for atom # 2 Si, 5, is greater than permitted\n",
      "[14:45:58] Explicit valence for atom # 1 Si, 5, is greater than permitted\n",
      "[14:46:01] Explicit valence for atom # 1 Si, 6, is greater than permitted\n",
      "[14:46:04] WARNING: not removing hydrogen atom without neighbors\n",
      "[14:46:04] WARNING: not removing hydrogen atom without neighbors\n",
      "[14:46:12] Explicit valence for atom # 10 Si, 5, is greater than permitted\n",
      "[14:46:13] Explicit valence for atom # 2 Si, 5, is greater than permitted\n",
      "[14:46:15] Explicit valence for atom # 1 P, 6, is greater than permitted\n",
      "[14:46:17] Explicit valence for atom # 6 Si, 5, is greater than permitted\n",
      "[14:46:25] Explicit valence for atom # 1 Si, 5, is greater than permitted\n",
      "[14:46:27] Explicit valence for atom # 8 Si, 5, is greater than permitted\n",
      "[14:46:27] WARNING: not removing hydrogen atom without neighbors\n",
      "[14:46:27] WARNING: not removing hydrogen atom without neighbors\n",
      "[14:46:27] WARNING: not removing hydrogen atom without neighbors\n",
      "[14:46:30] Explicit valence for atom # 1 Si, 5, is greater than permitted\n",
      "[14:46:34] Explicit valence for atom # 3 Si, 5, is greater than permitted\n",
      "[14:46:35] Explicit valence for atom # 3 Si, 5, is greater than permitted\n",
      "[14:46:36] Explicit valence for atom # 1 Si, 5, is greater than permitted\n",
      "[14:46:48] Explicit valence for atom # 2 Si, 5, is greater than permitted\n",
      "[14:46:55] Explicit valence for atom # 8 Si, 5, is greater than permitted\n",
      "[14:46:56] WARNING: not removing hydrogen atom without neighbors\n",
      "[14:46:56] WARNING: not removing hydrogen atom without neighbors\n",
      "[14:46:56] WARNING: not removing hydrogen atom without neighbors\n",
      "[14:47:11] Explicit valence for atom # 1 Si, 5, is greater than permitted\n",
      "[14:47:21] Explicit valence for atom # 1 Si, 5, is greater than permitted\n",
      "[14:47:40] Conflicting single bond directions around double bond at index 11.\n",
      "[14:47:40]   BondStereo set to STEREONONE and single bond directions set to NONE.\n",
      "[14:47:40] Explicit valence for atom # 2 Si, 5, is greater than permitted\n",
      "[14:47:41] Explicit valence for atom # 10 Si, 5, is greater than permitted\n",
      "[14:47:43] Explicit valence for atom # 1 Si, 5, is greater than permitted\n"
     ]
    },
    {
     "name": "stdout",
     "output_type": "stream",
     "text": [
      "Filtered data saved to: /home/akshatz/bond_order_free/pcqm4mv2/dataset/pcqm4mv2_data_filtered.csv\n",
      "Invalid SMILES saved to: /home/akshatz/bond_order_free/pcqm4mv2/dataset/pcqm4mv2_data_invalid.csv\n",
      "Updated splits saved to: /home/akshatz/bond_order_free/pcqm4mv2/dataset/splits_filtered.json\n"
     ]
    }
   ],
   "source": [
    "#pcqm4mv2\n",
    "process_dataset_and_splits(\n",
    "    data_path=\"/home/akshatz/bond_order_free/pcqm4mv2/dataset/pcqm4mv2_data.csv\",\n",
    "    splits_path=\"/home/akshatz/bond_order_free/pcqm4mv2/dataset/splits.json\"\n",
    ")"
   ]
  },
  {
   "cell_type": "code",
   "execution_count": 27,
   "id": "b5b06c02",
   "metadata": {},
   "outputs": [
    {
     "name": "stdout",
     "output_type": "stream",
     "text": [
      "Filtered data saved to: /home/akshatz/bond_order_free/logp/dataset/logP/data_filtered.csv\n",
      "Invalid SMILES saved to: /home/akshatz/bond_order_free/logp/dataset/logP/data_invalid.csv\n",
      "Updated splits saved to: /home/akshatz/bond_order_free/logp/dataset/logP/splits_filtered.json\n"
     ]
    }
   ],
   "source": [
    "# sampl all_data\n",
    "process_dataset_and_splits(\n",
    "    data_path=\"/home/akshatz/bond_order_free/logp/dataset/logP/data.csv\",\n",
    "    splits_path=\"/home/akshatz/bond_order_free/logp/dataset/logP/splits.json\"\n",
    ")"
   ]
  },
  {
   "cell_type": "code",
   "execution_count": 28,
   "id": "5a9708f3",
   "metadata": {},
   "outputs": [
    {
     "name": "stdout",
     "output_type": "stream",
     "text": [
      "Filtered data saved to: /home/akshatz/bond_order_free/logp/dataset/logP/logP_without_overlap_filtered.csv\n",
      "Invalid SMILES saved to: /home/akshatz/bond_order_free/logp/dataset/logP/logP_without_overlap_invalid.csv\n",
      "Updated splits saved to: /home/akshatz/bond_order_free/logp/dataset/logP/splits_filtered.json\n"
     ]
    }
   ],
   "source": [
    "# sampl without_overlap\n",
    "process_dataset_and_splits(\n",
    "    data_path=\"/home/akshatz/bond_order_free/logp/dataset/logP/logP_without_overlap.csv\",\n",
    "    splits_path=\"/home/akshatz/bond_order_free/logp/dataset/logP/splits.json\"\n",
    ")"
   ]
  }
 ],
 "metadata": {
  "kernelspec": {
   "display_name": "chemprop",
   "language": "python",
   "name": "python3"
  },
  "language_info": {
   "codemirror_mode": {
    "name": "ipython",
    "version": 3
   },
   "file_extension": ".py",
   "mimetype": "text/x-python",
   "name": "python",
   "nbconvert_exporter": "python",
   "pygments_lexer": "ipython3",
   "version": "3.13.3"
  }
 },
 "nbformat": 4,
 "nbformat_minor": 5
}
